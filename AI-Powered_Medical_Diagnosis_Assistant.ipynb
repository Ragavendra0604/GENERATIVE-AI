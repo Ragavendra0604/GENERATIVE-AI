{
 "cells": [
  {
   "cell_type": "markdown",
   "id": "77e62803-6189-4d87-8a7e-10a94b5924bc",
   "metadata": {},
   "source": [
    "<center><h1>AI-Powered Medical Diagnosis Assistant</h1></center>"
   ]
  },
  {
   "cell_type": "code",
   "execution_count": 1,
   "id": "8baa15d9-f67b-4089-b2ba-b3eab3adfe76",
   "metadata": {},
   "outputs": [
    {
     "name": "stderr",
     "output_type": "stream",
     "text": [
      "No model was supplied, defaulted to facebook/bart-large-mnli and revision d7645e1 (https://huggingface.co/facebook/bart-large-mnli).\n",
      "Using a pipeline without specifying a model name and revision in production is not recommended.\n"
     ]
    },
    {
     "data": {
      "application/vnd.jupyter.widget-view+json": {
       "model_id": "ff86599dd4bf42c5a81e0fa804248d9c",
       "version_major": 2,
       "version_minor": 0
      },
      "text/plain": [
       "config.json:   0%|          | 0.00/1.15k [00:00<?, ?B/s]"
      ]
     },
     "metadata": {},
     "output_type": "display_data"
    },
    {
     "name": "stderr",
     "output_type": "stream",
     "text": [
      "C:\\Users\\HARIRAGAVENDRA\\AppData\\Local\\Programs\\Python\\Python313\\Lib\\site-packages\\huggingface_hub\\file_download.py:144: UserWarning: `huggingface_hub` cache-system uses symlinks by default to efficiently store duplicated files but your machine does not support them in C:\\Users\\HARIRAGAVENDRA\\.cache\\huggingface\\hub\\models--facebook--bart-large-mnli. Caching files will still work but in a degraded version that might require more space on your disk. This warning can be disabled by setting the `HF_HUB_DISABLE_SYMLINKS_WARNING` environment variable. For more details, see https://huggingface.co/docs/huggingface_hub/how-to-cache#limitations.\n",
      "To support symlinks on Windows, you either need to activate Developer Mode or to run Python as an administrator. In order to activate developer mode, see this article: https://docs.microsoft.com/en-us/windows/apps/get-started/enable-your-device-for-development\n",
      "  warnings.warn(message)\n",
      "Xet Storage is enabled for this repo, but the 'hf_xet' package is not installed. Falling back to regular HTTP download. For better performance, install the package with: `pip install huggingface_hub[hf_xet]` or `pip install hf_xet`\n"
     ]
    },
    {
     "data": {
      "application/vnd.jupyter.widget-view+json": {
       "model_id": "1b679ed41ce143bfad858ad50b602a6a",
       "version_major": 2,
       "version_minor": 0
      },
      "text/plain": [
       "model.safetensors:   0%|          | 0.00/1.63G [00:00<?, ?B/s]"
      ]
     },
     "metadata": {},
     "output_type": "display_data"
    },
    {
     "data": {
      "application/vnd.jupyter.widget-view+json": {
       "model_id": "501f5a9ab1034bf7add4c4e9fc7a5f1c",
       "version_major": 2,
       "version_minor": 0
      },
      "text/plain": [
       "tokenizer_config.json:   0%|          | 0.00/26.0 [00:00<?, ?B/s]"
      ]
     },
     "metadata": {},
     "output_type": "display_data"
    },
    {
     "data": {
      "application/vnd.jupyter.widget-view+json": {
       "model_id": "a758467fe9f54aae89726566d174e9e3",
       "version_major": 2,
       "version_minor": 0
      },
      "text/plain": [
       "vocab.json:   0%|          | 0.00/899k [00:00<?, ?B/s]"
      ]
     },
     "metadata": {},
     "output_type": "display_data"
    },
    {
     "data": {
      "application/vnd.jupyter.widget-view+json": {
       "model_id": "3b2d7c3577b343a8a14103b7210c37d5",
       "version_major": 2,
       "version_minor": 0
      },
      "text/plain": [
       "merges.txt:   0%|          | 0.00/456k [00:00<?, ?B/s]"
      ]
     },
     "metadata": {},
     "output_type": "display_data"
    },
    {
     "data": {
      "application/vnd.jupyter.widget-view+json": {
       "model_id": "c92511fcdd214627a105a02ad4bc243e",
       "version_major": 2,
       "version_minor": 0
      },
      "text/plain": [
       "tokenizer.json:   0%|          | 0.00/1.36M [00:00<?, ?B/s]"
      ]
     },
     "metadata": {},
     "output_type": "display_data"
    },
    {
     "name": "stderr",
     "output_type": "stream",
     "text": [
      "Device set to use cpu\n"
     ]
    },
    {
     "name": "stdout",
     "output_type": "stream",
     "text": [
      "Welcome to the AI-powered Medical Diagnosis Assistant!\n",
      "Type 'exit' to stop.\n"
     ]
    },
    {
     "name": "stdin",
     "output_type": "stream",
     "text": [
      "Enter your symptoms (type 'exit' to quit):  Headache\n"
     ]
    },
    {
     "name": "stderr",
     "output_type": "stream",
     "text": [
      "The `multi_class` argument has been deprecated and renamed to `multi_label`. `multi_class` will be removed in a future version of Transformers.\n"
     ]
    },
    {
     "name": "stdout",
     "output_type": "stream",
     "text": [
      "\n",
      "Diagnosing based on symptoms...\n",
      "\n",
      "Diagnosis: COVID-19\n",
      "Confidence: 22.51%\n"
     ]
    },
    {
     "name": "stdin",
     "output_type": "stream",
     "text": [
      "Enter your symptoms (type 'exit' to quit):  stomach pain\n"
     ]
    },
    {
     "name": "stderr",
     "output_type": "stream",
     "text": [
      "The `multi_class` argument has been deprecated and renamed to `multi_label`. `multi_class` will be removed in a future version of Transformers.\n"
     ]
    },
    {
     "name": "stdout",
     "output_type": "stream",
     "text": [
      "\n",
      "Diagnosing based on symptoms...\n",
      "\n",
      "Diagnosis: COVID-19\n",
      "Confidence: 30.77%\n"
     ]
    },
    {
     "name": "stdin",
     "output_type": "stream",
     "text": [
      "Enter your symptoms (type 'exit' to quit):  exit\n"
     ]
    },
    {
     "name": "stdout",
     "output_type": "stream",
     "text": [
      "Goodbye!\n"
     ]
    }
   ],
   "source": [
    "from transformers import pipeline\n",
    "from sklearn.preprocessing import LabelEncoder\n",
    "\n",
    "# Pre-trained models for symptom-based diagnosis and sentiment analysis\n",
    "symptom_classifier = pipeline(\"zero-shot-classification\")\n",
    "\n",
    "# Predefined list of possible diseases (you can expand this)\n",
    "diseases = [\"Flu\", \"Cold\", \"COVID-19\", \"Malaria\", \"Pneumonia\", \"Cancer\", \"Diabetes\"]\n",
    "\n",
    "# Encode disease labels\n",
    "label_encoder = LabelEncoder()\n",
    "label_encoder.fit(diseases)\n",
    "\n",
    "# Function to classify symptoms into possible diseases\n",
    "def diagnose_symptoms(symptoms):\n",
    "    # Use the model to classify the input symptoms into disease categories\n",
    "    print(\"\\nDiagnosing based on symptoms...\")\n",
    "    results = symptom_classifier(\n",
    "        symptoms,\n",
    "        candidate_labels=diseases,\n",
    "        multi_class=True\n",
    "    )\n",
    "\n",
    "    # Output the top predictions\n",
    "    disease = results['labels'][0]  # Get the most likely disease\n",
    "    confidence = results['scores'][0]  # Confidence level\n",
    "    return disease, confidence\n",
    "\n",
    "# Function to run the assistant\n",
    "def start_assistant():\n",
    "    print(\"Welcome to the AI-powered Medical Diagnosis Assistant!\")\n",
    "    print(\"Type 'exit' to stop.\")\n",
    "    \n",
    "    while True:\n",
    "        user_input = input(\"Enter your symptoms (type 'exit' to quit): \")\n",
    "        \n",
    "        if user_input.lower() == 'exit':\n",
    "            print(\"Goodbye!\")\n",
    "            break\n",
    "        \n",
    "        # Get the diagnosis result\n",
    "        disease, confidence = diagnose_symptoms(user_input)\n",
    "        \n",
    "        print(f\"\\nDiagnosis: {disease}\")\n",
    "        print(f\"Confidence: {confidence*100:.2f}%\")\n",
    "\n",
    "# Run the assistant\n",
    "if __name__ == \"__main__\":\n",
    "    start_assistant()\n"
   ]
  },
  {
   "cell_type": "code",
   "execution_count": null,
   "id": "b43c3e73-f111-4199-97f7-cf321e8f316e",
   "metadata": {},
   "outputs": [],
   "source": []
  }
 ],
 "metadata": {
  "kernelspec": {
   "display_name": "Python 3 (ipykernel)",
   "language": "python",
   "name": "python3"
  },
  "language_info": {
   "codemirror_mode": {
    "name": "ipython",
    "version": 3
   },
   "file_extension": ".py",
   "mimetype": "text/x-python",
   "name": "python",
   "nbconvert_exporter": "python",
   "pygments_lexer": "ipython3",
   "version": "3.13.2"
  }
 },
 "nbformat": 4,
 "nbformat_minor": 5
}
