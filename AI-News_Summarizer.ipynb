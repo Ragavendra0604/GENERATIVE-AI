{
 "cells": [
  {
   "cell_type": "markdown",
   "id": "fc91ec6e-8072-48a4-8e57-9523515de54c",
   "metadata": {},
   "source": [
    "<center><h1>AI-Powered News Summarizer</h1></center>"
   ]
  },
  {
   "cell_type": "code",
   "execution_count": 15,
   "id": "32462f31-e87b-4a03-b808-981b0066a5c3",
   "metadata": {},
   "outputs": [
    {
     "name": "stderr",
     "output_type": "stream",
     "text": [
      "Device set to use cpu\n",
      "Device set to use cpu\n"
     ]
    },
    {
     "name": "stdout",
     "output_type": "stream",
     "text": [
      "Welcome to the AI News Summarizer and Sentiment Analyzer!\n",
      "Type 'exit' to stop.\n"
     ]
    },
    {
     "name": "stdin",
     "output_type": "stream",
     "text": [
      "Enter the news article or text (type 'exit' to quit):  \"President being called upon to decide in a time-bound manne ..  Read more at: http://timesofindia.indiatimes.com/articleshow/120376550.cms?utm_source=contentofinterest&utm_medium=text&utm_campaign=cppst\n"
     ]
    },
    {
     "name": "stderr",
     "output_type": "stream",
     "text": [
      "Your max_length is set to 150, but your input_length is only 65. Since this is a summarization task, where outputs shorter than the input are typically wanted, you might consider decreasing max_length manually, e.g. summarizer('...', max_length=32)\n"
     ]
    },
    {
     "name": "stdout",
     "output_type": "stream",
     "text": [
      "\n",
      "Summarizing the article...\n",
      "\n",
      "Summary:\n",
      "President being called upon to decide in a time-bound mannequins. Read more at: http://timesofindia.indiatimes.com/articleshow/120376550.cms?utm-source=contentofinterest&utm-medium=text&utm_campaign=cppst\n",
      "\n",
      "Analyzing sentiment...\n",
      "\n",
      "Sentiment Analysis:\n",
      "Sentiment: NEGATIVE (Confidence: 1.00)\n"
     ]
    },
    {
     "name": "stdin",
     "output_type": "stream",
     "text": [
      "Enter the news article or text (type 'exit' to quit):  exit\n"
     ]
    },
    {
     "name": "stdout",
     "output_type": "stream",
     "text": [
      "Goodbye!\n"
     ]
    }
   ],
   "source": [
    "from transformers import pipeline\n",
    "\n",
    "# Specify the models explicitly for summarization and sentiment analysis\n",
    "summarizer = pipeline(\"summarization\", model=\"facebook/bart-large-cnn\")\n",
    "sentiment_analyzer = pipeline(\"sentiment-analysis\", model=\"distilbert-base-uncased-finetuned-sst-2-english\")\n",
    "\n",
    "# Function to summarize news article\n",
    "def summarize_article(article_text):\n",
    "    print(\"\\nSummarizing the article...\")\n",
    "    summary = summarizer(article_text, max_length=150, min_length=50, do_sample=False)\n",
    "    return summary[0]['summary_text']\n",
    "\n",
    "# Function to analyze sentiment of the article\n",
    "def analyze_sentiment(article_text):\n",
    "    print(\"\\nAnalyzing sentiment...\")\n",
    "    sentiment = sentiment_analyzer(article_text)\n",
    "    return sentiment[0]['label'], sentiment[0]['score']\n",
    "\n",
    "# Main function to interact with the user\n",
    "def start_chat():\n",
    "    print(\"Welcome to the AI News Summarizer and Sentiment Analyzer!\")\n",
    "    print(\"Type 'exit' to stop.\")\n",
    "    \n",
    "    while True:\n",
    "        user_input = input(\"Enter the news article or text (type 'exit' to quit): \")\n",
    "        \n",
    "        if user_input.lower() == 'exit':\n",
    "            print(\"Goodbye!\")\n",
    "            break\n",
    "        \n",
    "        # Summarize the article\n",
    "        summary = summarize_article(user_input)\n",
    "        print(\"\\nSummary:\")\n",
    "        print(summary)\n",
    "        \n",
    "        # Perform sentiment analysis\n",
    "        sentiment, score = analyze_sentiment(user_input)\n",
    "        print(\"\\nSentiment Analysis:\")\n",
    "        print(f\"Sentiment: {sentiment} (Confidence: {score:.2f})\")\n",
    "\n",
    "# Run the chatbot\n",
    "if __name__ == \"__main__\":\n",
    "    start_chat()\n"
   ]
  },
  {
   "cell_type": "code",
   "execution_count": null,
   "id": "14ae2f2b-9fb1-4ef6-9065-9c334aaac7bd",
   "metadata": {},
   "outputs": [],
   "source": []
  }
 ],
 "metadata": {
  "kernelspec": {
   "display_name": "Python 3 (ipykernel)",
   "language": "python",
   "name": "python3"
  },
  "language_info": {
   "codemirror_mode": {
    "name": "ipython",
    "version": 3
   },
   "file_extension": ".py",
   "mimetype": "text/x-python",
   "name": "python",
   "nbconvert_exporter": "python",
   "pygments_lexer": "ipython3",
   "version": "3.13.2"
  }
 },
 "nbformat": 4,
 "nbformat_minor": 5
}
